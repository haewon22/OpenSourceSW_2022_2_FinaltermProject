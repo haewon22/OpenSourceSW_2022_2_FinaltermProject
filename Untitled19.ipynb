{
  "nbformat": 4,
  "nbformat_minor": 0,
  "metadata": {
    "colab": {
      "provenance": [],
      "authorship_tag": "ABX9TyOuZ2CTDQkyuZ0vXUX8SeJb",
      "include_colab_link": true
    },
    "kernelspec": {
      "name": "python3",
      "display_name": "Python 3"
    },
    "language_info": {
      "name": "python"
    }
  },
  "cells": [
    {
      "cell_type": "markdown",
      "metadata": {
        "id": "view-in-github",
        "colab_type": "text"
      },
      "source": [
        "<a href=\"https://colab.research.google.com/github/haewon22/2022_2_FinaltermProject/blob/main/Untitled19.ipynb\" target=\"_parent\"><img src=\"https://colab.research.google.com/assets/colab-badge.svg\" alt=\"Open In Colab\"/></a>"
      ]
    },
    {
      "cell_type": "code",
      "execution_count": 4,
      "metadata": {
        "colab": {
          "base_uri": "https://localhost:8080/"
        },
        "id": "6NZw3MUkxqa6",
        "outputId": "7d6f0e5a-63ad-4e13-c35c-8ff1af83e0fb"
      },
      "outputs": [
        {
          "output_type": "stream",
          "name": "stdout",
          "text": [
            "fatal: destination path 'FastSpeech2' already exists and is not an empty directory.\n"
          ]
        }
      ],
      "source": [
        "!git clone https://colab.research.google.com/github/haewon22/FastSpeech2.git"
      ]
    },
    {
      "cell_type": "code",
      "source": [
        "!ls -ltr"
      ],
      "metadata": {
        "colab": {
          "base_uri": "https://localhost:8080/"
        },
        "id": "f8_h-qtSxuZ3",
        "outputId": "db0158d1-e0bf-435e-e145-443a58d2ffed"
      },
      "execution_count": 3,
      "outputs": [
        {
          "output_type": "stream",
          "name": "stdout",
          "text": [
            "total 8\n",
            "drwxr-xr-x  1 root root 4096 Jan 24 18:27 sample_data\n",
            "drwxr-xr-x 15 root root 4096 Jan 26 07:58 FastSpeech2\n"
          ]
        }
      ]
    },
    {
      "cell_type": "code",
      "source": [],
      "metadata": {
        "id": "gFxn0svSx1nn"
      },
      "execution_count": null,
      "outputs": []
    }
  ]
}